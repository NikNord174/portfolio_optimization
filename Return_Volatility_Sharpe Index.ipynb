{
  "nbformat": 4,
  "nbformat_minor": 0,
  "metadata": {
    "colab": {
      "name": "Untitled13.ipynb",
      "provenance": [],
      "authorship_tag": "ABX9TyPsdUsKNJ2Nff8eCII9066k",
      "include_colab_link": true
    },
    "kernelspec": {
      "name": "python3",
      "display_name": "Python 3"
    },
    "language_info": {
      "name": "python"
    }
  },
  "cells": [
    {
      "cell_type": "markdown",
      "metadata": {
        "id": "view-in-github",
        "colab_type": "text"
      },
      "source": [
        "<a href=\"https://colab.research.google.com/github/NikNord174/portfolio_optimization/blob/out/Return_Volatility_Sharpe%20Index.ipynb\" target=\"_parent\"><img src=\"https://colab.research.google.com/assets/colab-badge.svg\" alt=\"Open In Colab\"/></a>"
      ]
    },
    {
      "cell_type": "code",
      "execution_count": null,
      "metadata": {
        "id": "KnXpTpfNpa7O"
      },
      "outputs": [],
      "source": [
        "!pip install yfinance\n",
        "!pip install fix_yahoo_finance"
      ]
    },
    {
      "cell_type": "code",
      "source": [
        "!pip install pandas_datareader --upgrade"
      ],
      "metadata": {
        "id": "wJrviGaXpgTt"
      },
      "execution_count": null,
      "outputs": []
    },
    {
      "cell_type": "code",
      "source": [
        "import pandas_datareader as pdr\n",
        "import datetime as dt\n",
        "import pandas as pd\n",
        "import numpy as np\n",
        "import scipy\n",
        "from scipy import optimize\n",
        "import matplotlib.pyplot as plt\n",
        "%matplotlib inline"
      ],
      "metadata": {
        "id": "M4uTPpvppx3A"
      },
      "execution_count": null,
      "outputs": []
    },
    {
      "cell_type": "code",
      "source": [
        "tickers = ['AAPL', 'MSFT', 'TWTR', 'IBM']\n",
        "start = dt.datetime(2020, 1, 1)\n",
        "data = pdr.get_data_yahoo(tickers, start)\n",
        "data = data['Adj Close']\n",
        "data"
      ],
      "metadata": {
        "id": "cjTMCW9gp1WR"
      },
      "execution_count": null,
      "outputs": []
    },
    {
      "cell_type": "code",
      "source": [
        "class Portfolio_Effectiveness():\n",
        "\n",
        "  \"\"\"\n",
        "  -------------\n",
        "  The class is for calculation of effective portfolio based on data about n assets\n",
        "  -------------\n",
        "  number_of_cycles - parameter of Monte-Carlo algorithm, the amount of points in experiment results\n",
        "  data_for_assets  - data about choosen assets, obtained for a certain amount of time\n",
        "  (imported data must include adjusted close price only)\n",
        "  -------------\n",
        "  Risk-free assets return is taken as 0\n",
        "  -------------\n",
        "  List of calling functions:\n",
        " • Minimum volatility:       Portfolio_Effectiveness().min_volatility()\n",
        " • Maximum Sharpe Ratio:     Portfolio_Effectiveness().max_sharpe_index() \n",
        " • Efficient risk:           Portfolio_Effectiveness().efficient_risk(target_return)\n",
        " • Efficient return:         Portfolio_Effectiveness().efficient_return(target_risk)\n",
        " • Maximum Diversification:  Portfolio_Effectiveness().maximum_diversification()\n",
        "  \"\"\"\n",
        "\n",
        "  def __init__(self, data_for_assets):\n",
        "    self.predata=pd.DataFrame(data_for_assets)\n",
        "    self.data=(self.predata/self.predata.shift()-1).dropna() #convert data to DataFrame in case it is not\n",
        "    self.n_assets=self.data.shape[1]                         #number of assets\n",
        "\n",
        "  #forming portfolio with random weights\n",
        "  def get_portfolio(self,weights): \n",
        "    values=(self.data*weights).sum(axis=1)\n",
        "    portfolio=pd.DataFrame(data={'portfolio':values},index=self.data.index)\n",
        "    portfolio=(portfolio/portfolio.shift()-1).dropna()\n",
        "    return portfolio\n",
        "\n",
        "  #daily average return for every asset\n",
        "  def get_return(self, data):\n",
        "    return data.mean().values\n",
        "\n",
        "  #daily average return for a portfolio\n",
        "  def get_portfolio_return(self,weights): \n",
        "    values=(self.data*weights).sum(axis=1)\n",
        "    return values.mean()\n",
        "\n",
        "  #std for every asset return\n",
        "  def get_std(self, data): \n",
        "    return data.std().values\n",
        "\n",
        "  #std fordaily return of portfolio\n",
        "  def get_portfolio_std(self,weights):\n",
        "    values=(self.data*weights).sum(axis=1)\n",
        "    return values.std()\n",
        "\n",
        "  #get weights for minimal risk at certain a target return\n",
        "  def efficient_risk(self, target_return): \n",
        "    data=self.predata\n",
        "    bounds = ((0.0, 1.0),)*self.n_assets\n",
        "    init_weights=np.ones(self.n_assets)*(1/self.n_assets)\n",
        "    cons=({'type':'eq', 'fun':lambda inputs: 1.0 - np.sum(inputs)},\n",
        "                 {'type':'eq', 'args':(data,), 'fun':lambda inputs,data:\n",
        "                  target_return - self.get_portfolio_return(weights=inputs)})\n",
        "    \n",
        "    weights = scipy.optimize.minimize(self.get_portfolio_std,\n",
        "                                      init_weights,\n",
        "                                      method='SLSQP',\n",
        "                                      options={'disp':False},\n",
        "                                      constraints=cons,\n",
        "                                      bounds=bounds)\n",
        "    return weights.x\n",
        "\n",
        "  def get_neg_portfolio_return(self,weights): \n",
        "    values=(self.data*weights).sum(axis=1)\n",
        "    return -values.mean()\n",
        "\n",
        "  #get weights for maximal return at certain a target risk\n",
        "  def efficient_return(self, target_risk): \n",
        "    data=self.predata\n",
        "    bounds = ((0.0, 1.0),)*self.n_assets\n",
        "    init_weights=np.ones(self.n_assets)*(1/self.n_assets)\n",
        "    cons=({'type':'eq', 'fun':lambda inputs: 1.0 - np.sum(inputs)},\n",
        "                 {'type':'eq', 'args':(data,), 'fun':lambda inputs,data:\n",
        "                  target_risk - self.get_portfolio_std(weights=inputs)})\n",
        "    \n",
        "    weights = scipy.optimize.minimize(self.get_neg_portfolio_return,\n",
        "                                      init_weights,\n",
        "                                      method='SLSQP',\n",
        "                                      options={'disp':False},\n",
        "                                      constraints=cons,\n",
        "                                      bounds=bounds)\n",
        "    return weights.x\n",
        "\n",
        "  def volatility(self,weights):\n",
        "    ret_cov=(self.data*weights).cov()\n",
        "    return np.sqrt(np.dot(weights.T, np.dot(ret_cov, weights)))\n",
        "\n",
        "  #get weights for portfolio with minimal volatility\n",
        "  def min_volatility(self): \n",
        "    data=self.predata\n",
        "    bounds = ((0.0, 1.0),)*self.n_assets\n",
        "    init_weights=np.ones(self.n_assets)*(1/self.n_assets)\n",
        "    cons=({'type':'eq', 'fun':lambda inputs: 1.0 - np.sum(inputs)})\n",
        "    \n",
        "    weights = scipy.optimize.minimize(self.volatility,\n",
        "                                      init_weights,\n",
        "                                      method='SLSQP',\n",
        "                                      options={'disp':False},\n",
        "                                      constraints=cons,\n",
        "                                      bounds=bounds)\n",
        "    return weights.x\n",
        "\n",
        "  def min_volatility_with_return(self,target_return): #get weights for portfolio with minimal volatility\n",
        "    data=self.predata\n",
        "    bounds = ((0.0, 1.0),)*self.n_assets\n",
        "    init_weights=np.ones(self.n_assets)*(1/self.n_assets)\n",
        "    cons=({'type':'eq', 'fun':lambda inputs: 1.0 - np.sum(inputs)},\n",
        "                 {'type':'eq', 'args':(data,), 'fun':lambda inputs,data:\n",
        "                  target_return - self.get_portfolio_return(weights=inputs)})\n",
        "    \n",
        "    weights = scipy.optimize.minimize(self.volatility,\n",
        "                                      init_weights,\n",
        "                                      method='SLSQP',\n",
        "                                      options={'disp':False},\n",
        "                                      constraints=cons,\n",
        "                                      bounds=bounds)\n",
        "    return weights.x\n",
        "\n",
        "  def neg_sharpe_ratio(self, weights):\n",
        "    return -self.get_portfolio_return(weights)/self.get_portfolio_std(weights)\n",
        "\n",
        "  #get weights for portfolio with max Sharpe Index\n",
        "  def max_sharpe_ratio(self): \n",
        "    data=self.predata\n",
        "    bounds = ((0.0, 1.0),)*self.n_assets\n",
        "    init_weights=np.ones(self.n_assets)*(1/self.n_assets)\n",
        "    cons=({'type':'eq', 'fun':lambda inputs: 1.0 - np.sum(inputs)})\n",
        "    \n",
        "    weights = scipy.optimize.minimize(self.neg_sharpe_ratio,\n",
        "                                      init_weights,\n",
        "                                      method='SLSQP',\n",
        "                                      options={'disp':False},\n",
        "                                      constraints=cons,\n",
        "                                      bounds=bounds)\n",
        "    return weights.x\n",
        "\n",
        "  def neg_diversification(self,weights):\n",
        "    num=np.dot(weights.T,self.get_std(self.data))\n",
        "    ret_cov=(self.data*weights).cov()\n",
        "    den=np.sqrt(np.dot(weights.T,np.dot(ret_cov,weights)))\n",
        "    return -num/den\n",
        "\n",
        "  #get weights for portfolio with max diversification ratio (according to Choueifaty, Yves, and Yves Coignard. 2008. “Toward Maximum Diversification.”)\n",
        "  def max_diversification(self): \n",
        "    data=self.predata\n",
        "    bounds = ((0.0, 1.0),)*self.n_assets\n",
        "    init_weights=np.ones(self.n_assets)*(1/self.n_assets)\n",
        "    cons=({'type':'eq', 'fun':lambda inputs: 1.0 - np.sum(inputs)})\n",
        "    \n",
        "    weights = scipy.optimize.minimize(self.neg_diversification,\n",
        "                                      init_weights,\n",
        "                                      method='SLSQP',\n",
        "                                      options={'disp':False},\n",
        "                                      constraints=cons,\n",
        "                                      bounds=bounds)\n",
        "    return weights.x"
      ],
      "metadata": {
        "id": "iRx5z2hep5ZI"
      },
      "execution_count": null,
      "outputs": []
    },
    {
      "cell_type": "code",
      "source": [
        "ret=np.arange(0.0003,0.002,0.00005)\n",
        "vol=[]\n",
        "for i in ret:\n",
        "  a=PE.volatility(PE.min_volatility_with_return(i))\n",
        "  vol.append(a)"
      ],
      "metadata": {
        "id": "MUCWFEAq_600"
      },
      "execution_count": null,
      "outputs": []
    },
    {
      "cell_type": "code",
      "source": [
        "plt.plot(risk,ret)\n",
        "plt.scatter(min(risk),ret[np.argmin(risk)],c='red')\n",
        "plt.scatter(PE.get_portfolio_std(PE.max_sharpe_ratio()),\n",
        "            PE.get_portfolio_return(PE.max_sharpe_ratio()),c='green')\n",
        "plt.scatter(PE.get_portfolio_std(PE.efficient_return(0.019)),\n",
        "            PE.get_portfolio_return(PE.efficient_return(0.019)),c='blue')\n",
        "plt.show()"
      ],
      "metadata": {
        "id": "9JtKs4hBajBo"
      },
      "execution_count": null,
      "outputs": []
    },
    {
      "cell_type": "code",
      "source": [
        ""
      ],
      "metadata": {
        "id": "3DXbXMcD3aD-"
      },
      "execution_count": null,
      "outputs": []
    }
  ]
}