{
  "nbformat": 4,
  "nbformat_minor": 0,
  "metadata": {
    "colab": {
      "name": "Untitled13.ipynb",
      "provenance": [],
      "authorship_tag": "ABX9TyPD+9+2vZtlUBr0R2R7kgCX",
      "include_colab_link": true
    },
    "kernelspec": {
      "name": "python3",
      "display_name": "Python 3"
    },
    "language_info": {
      "name": "python"
    }
  },
  "cells": [
    {
      "cell_type": "markdown",
      "metadata": {
        "id": "view-in-github",
        "colab_type": "text"
      },
      "source": [
        "<a href=\"https://colab.research.google.com/github/NikNord174/portfolio_optimization/blob/main/Return_Volatility_Sharpe%20Index.ipynb\" target=\"_parent\"><img src=\"https://colab.research.google.com/assets/colab-badge.svg\" alt=\"Open In Colab\"/></a>"
      ]
    },
    {
      "cell_type": "code",
      "execution_count": null,
      "metadata": {
        "id": "KnXpTpfNpa7O"
      },
      "outputs": [],
      "source": [
        "!pip install yfinance\n",
        "!pip install fix_yahoo_finance"
      ]
    },
    {
      "cell_type": "code",
      "source": [
        "!pip install pandas_datareader --upgrade"
      ],
      "metadata": {
        "id": "wJrviGaXpgTt"
      },
      "execution_count": null,
      "outputs": []
    },
    {
      "cell_type": "code",
      "source": [
        "import pandas_datareader as pdr\n",
        "import datetime as dt\n",
        "import pandas as pd\n",
        "import numpy as np\n",
        "import scipy\n",
        "from scipy import optimize\n",
        "import matplotlib.pyplot as plt\n",
        "%matplotlib inline"
      ],
      "metadata": {
        "id": "M4uTPpvppx3A"
      },
      "execution_count": 265,
      "outputs": []
    },
    {
      "cell_type": "code",
      "source": [
        "tickers = ['AAPL', 'MSFT', 'TWTR', 'IBM']\n",
        "start = dt.datetime(2020, 1, 1)\n",
        "data = pdr.get_data_yahoo(tickers, start)\n",
        "data = data['Adj Close']\n",
        "data"
      ],
      "metadata": {
        "colab": {
          "base_uri": "https://localhost:8080/",
          "height": 464
        },
        "id": "cjTMCW9gp1WR",
        "outputId": "1192f60e-ff69-46b0-dad0-aaedb6c42384"
      },
      "execution_count": 266,
      "outputs": [
        {
          "output_type": "execute_result",
          "data": {
            "text/plain": [
              "Symbols           AAPL        MSFT       TWTR         IBM\n",
              "Date                                                     \n",
              "2020-01-02   73.894341  157.289871  32.299999  115.261650\n",
              "2020-01-03   73.175926  155.331360  31.520000  114.342422\n",
              "2020-01-06   73.759010  155.732849  31.639999  114.138145\n",
              "2020-01-07   73.412117  154.312927  32.540001  114.214745\n",
              "2020-01-08   74.593040  156.770889  33.049999  115.168022\n",
              "...                ...         ...        ...         ...\n",
              "2022-03-22  168.820007  304.059998  38.430000  129.059998\n",
              "2022-03-23  170.210007  299.489990  38.000000  128.300003\n",
              "2022-03-24  174.070007  304.100006  38.820000  129.250000\n",
              "2022-03-25  174.720001  303.679993  38.599998  131.350006\n",
              "2022-03-25  174.720001  303.679993  38.599998  131.350006\n",
              "\n",
              "[564 rows x 4 columns]"
            ],
            "text/html": [
              "\n",
              "  <div id=\"df-1c63c2cc-85ca-4a0b-bd18-2efc9305f627\">\n",
              "    <div class=\"colab-df-container\">\n",
              "      <div>\n",
              "<style scoped>\n",
              "    .dataframe tbody tr th:only-of-type {\n",
              "        vertical-align: middle;\n",
              "    }\n",
              "\n",
              "    .dataframe tbody tr th {\n",
              "        vertical-align: top;\n",
              "    }\n",
              "\n",
              "    .dataframe thead th {\n",
              "        text-align: right;\n",
              "    }\n",
              "</style>\n",
              "<table border=\"1\" class=\"dataframe\">\n",
              "  <thead>\n",
              "    <tr style=\"text-align: right;\">\n",
              "      <th>Symbols</th>\n",
              "      <th>AAPL</th>\n",
              "      <th>MSFT</th>\n",
              "      <th>TWTR</th>\n",
              "      <th>IBM</th>\n",
              "    </tr>\n",
              "    <tr>\n",
              "      <th>Date</th>\n",
              "      <th></th>\n",
              "      <th></th>\n",
              "      <th></th>\n",
              "      <th></th>\n",
              "    </tr>\n",
              "  </thead>\n",
              "  <tbody>\n",
              "    <tr>\n",
              "      <th>2020-01-02</th>\n",
              "      <td>73.894341</td>\n",
              "      <td>157.289871</td>\n",
              "      <td>32.299999</td>\n",
              "      <td>115.261650</td>\n",
              "    </tr>\n",
              "    <tr>\n",
              "      <th>2020-01-03</th>\n",
              "      <td>73.175926</td>\n",
              "      <td>155.331360</td>\n",
              "      <td>31.520000</td>\n",
              "      <td>114.342422</td>\n",
              "    </tr>\n",
              "    <tr>\n",
              "      <th>2020-01-06</th>\n",
              "      <td>73.759010</td>\n",
              "      <td>155.732849</td>\n",
              "      <td>31.639999</td>\n",
              "      <td>114.138145</td>\n",
              "    </tr>\n",
              "    <tr>\n",
              "      <th>2020-01-07</th>\n",
              "      <td>73.412117</td>\n",
              "      <td>154.312927</td>\n",
              "      <td>32.540001</td>\n",
              "      <td>114.214745</td>\n",
              "    </tr>\n",
              "    <tr>\n",
              "      <th>2020-01-08</th>\n",
              "      <td>74.593040</td>\n",
              "      <td>156.770889</td>\n",
              "      <td>33.049999</td>\n",
              "      <td>115.168022</td>\n",
              "    </tr>\n",
              "    <tr>\n",
              "      <th>...</th>\n",
              "      <td>...</td>\n",
              "      <td>...</td>\n",
              "      <td>...</td>\n",
              "      <td>...</td>\n",
              "    </tr>\n",
              "    <tr>\n",
              "      <th>2022-03-22</th>\n",
              "      <td>168.820007</td>\n",
              "      <td>304.059998</td>\n",
              "      <td>38.430000</td>\n",
              "      <td>129.059998</td>\n",
              "    </tr>\n",
              "    <tr>\n",
              "      <th>2022-03-23</th>\n",
              "      <td>170.210007</td>\n",
              "      <td>299.489990</td>\n",
              "      <td>38.000000</td>\n",
              "      <td>128.300003</td>\n",
              "    </tr>\n",
              "    <tr>\n",
              "      <th>2022-03-24</th>\n",
              "      <td>174.070007</td>\n",
              "      <td>304.100006</td>\n",
              "      <td>38.820000</td>\n",
              "      <td>129.250000</td>\n",
              "    </tr>\n",
              "    <tr>\n",
              "      <th>2022-03-25</th>\n",
              "      <td>174.720001</td>\n",
              "      <td>303.679993</td>\n",
              "      <td>38.599998</td>\n",
              "      <td>131.350006</td>\n",
              "    </tr>\n",
              "    <tr>\n",
              "      <th>2022-03-25</th>\n",
              "      <td>174.720001</td>\n",
              "      <td>303.679993</td>\n",
              "      <td>38.599998</td>\n",
              "      <td>131.350006</td>\n",
              "    </tr>\n",
              "  </tbody>\n",
              "</table>\n",
              "<p>564 rows × 4 columns</p>\n",
              "</div>\n",
              "      <button class=\"colab-df-convert\" onclick=\"convertToInteractive('df-1c63c2cc-85ca-4a0b-bd18-2efc9305f627')\"\n",
              "              title=\"Convert this dataframe to an interactive table.\"\n",
              "              style=\"display:none;\">\n",
              "        \n",
              "  <svg xmlns=\"http://www.w3.org/2000/svg\" height=\"24px\"viewBox=\"0 0 24 24\"\n",
              "       width=\"24px\">\n",
              "    <path d=\"M0 0h24v24H0V0z\" fill=\"none\"/>\n",
              "    <path d=\"M18.56 5.44l.94 2.06.94-2.06 2.06-.94-2.06-.94-.94-2.06-.94 2.06-2.06.94zm-11 1L8.5 8.5l.94-2.06 2.06-.94-2.06-.94L8.5 2.5l-.94 2.06-2.06.94zm10 10l.94 2.06.94-2.06 2.06-.94-2.06-.94-.94-2.06-.94 2.06-2.06.94z\"/><path d=\"M17.41 7.96l-1.37-1.37c-.4-.4-.92-.59-1.43-.59-.52 0-1.04.2-1.43.59L10.3 9.45l-7.72 7.72c-.78.78-.78 2.05 0 2.83L4 21.41c.39.39.9.59 1.41.59.51 0 1.02-.2 1.41-.59l7.78-7.78 2.81-2.81c.8-.78.8-2.07 0-2.86zM5.41 20L4 18.59l7.72-7.72 1.47 1.35L5.41 20z\"/>\n",
              "  </svg>\n",
              "      </button>\n",
              "      \n",
              "  <style>\n",
              "    .colab-df-container {\n",
              "      display:flex;\n",
              "      flex-wrap:wrap;\n",
              "      gap: 12px;\n",
              "    }\n",
              "\n",
              "    .colab-df-convert {\n",
              "      background-color: #E8F0FE;\n",
              "      border: none;\n",
              "      border-radius: 50%;\n",
              "      cursor: pointer;\n",
              "      display: none;\n",
              "      fill: #1967D2;\n",
              "      height: 32px;\n",
              "      padding: 0 0 0 0;\n",
              "      width: 32px;\n",
              "    }\n",
              "\n",
              "    .colab-df-convert:hover {\n",
              "      background-color: #E2EBFA;\n",
              "      box-shadow: 0px 1px 2px rgba(60, 64, 67, 0.3), 0px 1px 3px 1px rgba(60, 64, 67, 0.15);\n",
              "      fill: #174EA6;\n",
              "    }\n",
              "\n",
              "    [theme=dark] .colab-df-convert {\n",
              "      background-color: #3B4455;\n",
              "      fill: #D2E3FC;\n",
              "    }\n",
              "\n",
              "    [theme=dark] .colab-df-convert:hover {\n",
              "      background-color: #434B5C;\n",
              "      box-shadow: 0px 1px 3px 1px rgba(0, 0, 0, 0.15);\n",
              "      filter: drop-shadow(0px 1px 2px rgba(0, 0, 0, 0.3));\n",
              "      fill: #FFFFFF;\n",
              "    }\n",
              "  </style>\n",
              "\n",
              "      <script>\n",
              "        const buttonEl =\n",
              "          document.querySelector('#df-1c63c2cc-85ca-4a0b-bd18-2efc9305f627 button.colab-df-convert');\n",
              "        buttonEl.style.display =\n",
              "          google.colab.kernel.accessAllowed ? 'block' : 'none';\n",
              "\n",
              "        async function convertToInteractive(key) {\n",
              "          const element = document.querySelector('#df-1c63c2cc-85ca-4a0b-bd18-2efc9305f627');\n",
              "          const dataTable =\n",
              "            await google.colab.kernel.invokeFunction('convertToInteractive',\n",
              "                                                     [key], {});\n",
              "          if (!dataTable) return;\n",
              "\n",
              "          const docLinkHtml = 'Like what you see? Visit the ' +\n",
              "            '<a target=\"_blank\" href=https://colab.research.google.com/notebooks/data_table.ipynb>data table notebook</a>'\n",
              "            + ' to learn more about interactive tables.';\n",
              "          element.innerHTML = '';\n",
              "          dataTable['output_type'] = 'display_data';\n",
              "          await google.colab.output.renderOutput(dataTable, element);\n",
              "          const docLink = document.createElement('div');\n",
              "          docLink.innerHTML = docLinkHtml;\n",
              "          element.appendChild(docLink);\n",
              "        }\n",
              "      </script>\n",
              "    </div>\n",
              "  </div>\n",
              "  "
            ]
          },
          "metadata": {},
          "execution_count": 266
        }
      ]
    },
    {
      "cell_type": "code",
      "source": [
        "class Portfolio_Effectiveness():\n",
        "\n",
        "  \"\"\"\n",
        "  -------------\n",
        "  The class is for calculation of effective portfolio based on data about n assets\n",
        "  -------------\n",
        "  number_of_cycles - parameter of Monte-Carlo algorithm, the amount of points in experiment results\n",
        "  data_for_assets  - data about choosen assets, obtained for a certain amount of time\n",
        "  (imported data must include adjusted close price only)\n",
        "  -------------\n",
        "  Risk-free assets return is taken as 0\n",
        "  -------------\n",
        "  List of calling functions:\n",
        " • Minimum volatility:       Portfolio_Effectiveness().min_volatility()\n",
        " • Maximum Sharpe Ratio:     Portfolio_Effectiveness().max_sharpe_index() \n",
        " • Efficient risk:           Portfolio_Effectiveness().efficient_risk(target_return)\n",
        " • Efficient return:         Portfolio_Effectiveness().efficient_return(target_risk)\n",
        " • Maximum Diversification:  Portfolio_Effectiveness().maximum_diversification()\n",
        "  \"\"\"\n",
        "\n",
        "  def __init__(self, data_for_assets):\n",
        "    self.predata=pd.DataFrame(data_for_assets)\n",
        "    self.data=(self.predata/self.predata.shift()-1).dropna() #convert data to DataFrame in case it is not\n",
        "    self.n_assets=self.data.shape[1]                         #number of assets\n",
        "\n",
        "  #forming portfolio with random weights\n",
        "  def get_portfolio(self,weights): \n",
        "    values=(self.data*weights).sum(axis=1)\n",
        "    portfolio=pd.DataFrame(data={'portfolio':values},index=self.data.index)\n",
        "    portfolio=(portfolio/portfolio.shift()-1).dropna()\n",
        "    return portfolio\n",
        "\n",
        "  #daily average return for every asset\n",
        "  def get_return(self, data):\n",
        "    return data.mean().values\n",
        "\n",
        "  #daily average return for a portfolio\n",
        "  def get_portfolio_return(self,weights): \n",
        "    values=(self.data*weights).sum(axis=1)\n",
        "    return values.mean()\n",
        "\n",
        "  #std for every asset return\n",
        "  def get_std(self, data): \n",
        "    return data.std().values\n",
        "\n",
        "  #std fordaily return of portfolio\n",
        "  def get_portfolio_std(self,weights):\n",
        "    values=(self.data*weights).sum(axis=1)\n",
        "    return values.std()\n",
        "\n",
        "  #get weights for minimal risk at certain a target return\n",
        "  def efficient_risk(self, target_return): \n",
        "    data=self.predata\n",
        "    bounds = ((0.0, 1.0),)*self.n_assets\n",
        "    init_weights=np.ones(self.n_assets)*(1/self.n_assets)\n",
        "    cons=({'type':'eq', 'fun':lambda inputs: 1.0 - np.sum(inputs)},\n",
        "                 {'type':'eq', 'args':(data,), 'fun':lambda inputs,data:\n",
        "                  target_return - self.get_portfolio_return(weights=inputs)})\n",
        "    \n",
        "    weights = scipy.optimize.minimize(self.get_portfolio_std,\n",
        "                                      init_weights,\n",
        "                                      method='SLSQP',\n",
        "                                      options={'disp':False},\n",
        "                                      constraints=cons,\n",
        "                                      bounds=bounds)\n",
        "    return weights.x\n",
        "\n",
        "  def get_neg_portfolio_return(self,weights): \n",
        "    values=(self.data*weights).sum(axis=1)\n",
        "    return -values.mean()\n",
        "\n",
        "  #get weights for maximal return at certain a target risk\n",
        "  def efficient_return(self, target_risk): \n",
        "    data=self.predata\n",
        "    bounds = ((0.0, 1.0),)*self.n_assets\n",
        "    init_weights=np.ones(self.n_assets)*(1/self.n_assets)\n",
        "    cons=({'type':'eq', 'fun':lambda inputs: 1.0 - np.sum(inputs)},\n",
        "                 {'type':'eq', 'args':(data,), 'fun':lambda inputs,data:\n",
        "                  target_risk - self.get_portfolio_std(weights=inputs)})\n",
        "    \n",
        "    weights = scipy.optimize.minimize(self.get_neg_portfolio_return,\n",
        "                                      init_weights,\n",
        "                                      method='SLSQP',\n",
        "                                      options={'disp':False},\n",
        "                                      constraints=cons,\n",
        "                                      bounds=bounds)\n",
        "    return weights.x\n",
        "\n",
        "  def volatility(self,weights):\n",
        "    ret_cov=(self.data*weights).cov()\n",
        "    return np.sqrt(np.dot(weights.T, np.dot(ret_cov, weights)))\n",
        "\n",
        "  #get weights for portfolio with minimal volatility\n",
        "  def min_volatility(self): \n",
        "    data=self.predata\n",
        "    bounds = ((0.0, 1.0),)*self.n_assets\n",
        "    init_weights=np.ones(self.n_assets)*(1/self.n_assets)\n",
        "    cons=({'type':'eq', 'fun':lambda inputs: 1.0 - np.sum(inputs)})\n",
        "    \n",
        "    weights = scipy.optimize.minimize(self.volatility,\n",
        "                                      init_weights,\n",
        "                                      method='SLSQP',\n",
        "                                      options={'disp':False},\n",
        "                                      constraints=cons,\n",
        "                                      bounds=bounds)\n",
        "    return weights.x\n",
        "\n",
        "  def min_volatility_with_return(self,target_return): #get weights for portfolio with minimal volatility\n",
        "    data=self.predata\n",
        "    bounds = ((0.0, 1.0),)*self.n_assets\n",
        "    init_weights=np.ones(self.n_assets)*(1/self.n_assets)\n",
        "    cons=({'type':'eq', 'fun':lambda inputs: 1.0 - np.sum(inputs)},\n",
        "                 {'type':'eq', 'args':(data,), 'fun':lambda inputs,data:\n",
        "                  target_return - self.get_portfolio_return(weights=inputs)})\n",
        "    \n",
        "    weights = scipy.optimize.minimize(self.volatility,\n",
        "                                      init_weights,\n",
        "                                      method='SLSQP',\n",
        "                                      options={'disp':False},\n",
        "                                      constraints=cons,\n",
        "                                      bounds=bounds)\n",
        "    return weights.x\n",
        "\n",
        "  def neg_sharpe_ratio(self, weights):\n",
        "    return -self.get_portfolio_return(weights)/self.get_portfolio_std(weights)\n",
        "\n",
        "  #get weights for portfolio with max Sharpe Index\n",
        "  def max_sharpe_ratio(self): \n",
        "    data=self.predata\n",
        "    bounds = ((0.0, 1.0),)*self.n_assets\n",
        "    init_weights=np.ones(self.n_assets)*(1/self.n_assets)\n",
        "    cons=({'type':'eq', 'fun':lambda inputs: 1.0 - np.sum(inputs)})\n",
        "    \n",
        "    weights = scipy.optimize.minimize(self.neg_sharpe_ratio,\n",
        "                                      init_weights,\n",
        "                                      method='SLSQP',\n",
        "                                      options={'disp':False},\n",
        "                                      constraints=cons,\n",
        "                                      bounds=bounds)\n",
        "    return weights.x\n",
        "\n",
        "  def neg_diversification(self,weights):\n",
        "    num=np.dot(weights.T,self.get_std(self.data))\n",
        "    ret_cov=(self.data*weights).cov()\n",
        "    den=np.sqrt(np.dot(weights.T,np.dot(ret_cov,weights)))\n",
        "    return -num/den\n",
        "\n",
        "  #get weights for portfolio with max diversification ratio (according to Choueifaty, Yves, and Yves Coignard. 2008. “Toward Maximum Diversification.”)\n",
        "  def max_diversification(self): \n",
        "    data=self.predata\n",
        "    bounds = ((0.0, 1.0),)*self.n_assets\n",
        "    init_weights=np.ones(self.n_assets)*(1/self.n_assets)\n",
        "    cons=({'type':'eq', 'fun':lambda inputs: 1.0 - np.sum(inputs)})\n",
        "    \n",
        "    weights = scipy.optimize.minimize(self.neg_diversification,\n",
        "                                      init_weights,\n",
        "                                      method='SLSQP',\n",
        "                                      options={'disp':False},\n",
        "                                      constraints=cons,\n",
        "                                      bounds=bounds)\n",
        "    return weights.x"
      ],
      "metadata": {
        "id": "iRx5z2hep5ZI"
      },
      "execution_count": 366,
      "outputs": []
    },
    {
      "cell_type": "code",
      "source": [
        "print(tickers)\n",
        "PE=Portfolio_Effectiveness(data)\n",
        "#print(PE.get_return(data))\n",
        "#print(PE.get_std(data))\n",
        "#print(PE.get_portfolio_return([0.25,0.25,0.25,0.25]))\n",
        "#print(PE.get_portfolio_std(PE.max_sharpe_ratio()))\n",
        "#print(PE.volatility(PE.max_sharpe_ratio()))\n",
        "#print(PE.efficient_return(0.019))\n",
        "#print(PE.max_sharpe_ratio())\n",
        "#print(PE.min_volatility_with_return(0.0001))\n",
        "print(PE.max_diversification())"
      ],
      "metadata": {
        "colab": {
          "base_uri": "https://localhost:8080/"
        },
        "id": "ggfzyF7Np8Q2",
        "outputId": "41c5e2cd-fc8f-468a-df62-a918aff18509"
      },
      "execution_count": 363,
      "outputs": [
        {
          "output_type": "stream",
          "name": "stdout",
          "text": [
            "['AAPL', 'MSFT', 'TWTR', 'IBM']\n",
            "[0.23869249 0.24240862 0.22477198 0.29412691]\n"
          ]
        }
      ]
    },
    {
      "cell_type": "code",
      "source": [
        "ret=np.arange(0.0003,0.002,0.00005)\n",
        "vol=[]\n",
        "for i in ret:\n",
        "  a=PE.volatility(PE.min_volatility_with_return(i))\n",
        "  vol.append(a)"
      ],
      "metadata": {
        "id": "MUCWFEAq_600"
      },
      "execution_count": 364,
      "outputs": []
    },
    {
      "cell_type": "code",
      "source": [
        "plt.plot(vol,ret)\n",
        "plt.scatter(min(vol),ret[np.argmin(vol)],c='red')\n",
        "plt.scatter(PE.volatility(PE.max_sharpe_ratio()),\n",
        "            PE.get_portfolio_return(PE.max_sharpe_ratio()),c='green')\n",
        "plt.scatter(PE.volatility(PE.efficient_return(0.0015)),\n",
        "            PE.get_portfolio_return(PE.efficient_return(0.0015)),c='blue')\n",
        "plt.scatter(PE.volatility(PE.max_diversification()),\n",
        "            PE.get_portfolio_return(PE.max_diversification()),c='black')\n",
        "plt.show()"
      ],
      "metadata": {
        "colab": {
          "base_uri": "https://localhost:8080/",
          "height": 286
        },
        "id": "tsumvEA1BwoO",
        "outputId": "8c810e8d-b965-4b4f-decc-df345ea6a7b4"
      },
      "execution_count": 365,
      "outputs": [
        {
          "output_type": "display_data",
          "data": {
            "text/plain": [
              "<Figure size 432x288 with 1 Axes>"
            ],
            "image/png": "[encoded data removed]"
          },
          "metadata": {
            "needs_background": "light"
          }
        }
      ]
    },
    {
      "cell_type": "code",
      "source": [
        "ret=np.arange(0.0003,0.002,0.00005)\n",
        "risk=[]\n",
        "for i in ret:\n",
        "  a=PE.get_portfolio_std(PE.optimize(i))\n",
        "  risk.append(a)\n",
        "\n",
        "plt.plot(risk,ret)\n",
        "plt.scatter(min(risk),ret[np.argmin(risk)],c='red')\n",
        "plt.show()"
      ],
      "metadata": {
        "colab": {
          "base_uri": "https://localhost:8080/",
          "height": 248
        },
        "id": "KYDA4OGk8xeG",
        "outputId": "80bd383f-ccab-4a3b-b576-f241d498e8b8"
      },
      "execution_count": 334,
      "outputs": [
        {
          "output_type": "error",
          "ename": "AttributeError",
          "evalue": "ignored",
          "traceback": [
            "\u001b[0;31m---------------------------------------------------------------------------\u001b[0m",
            "\u001b[0;31mAttributeError\u001b[0m                            Traceback (most recent call last)",
            "\u001b[0;32m<ipython-input-334-6e77f6e8881b>\u001b[0m in \u001b[0;36m<module>\u001b[0;34m()\u001b[0m\n\u001b[1;32m      2\u001b[0m \u001b[0mrisk\u001b[0m\u001b[0;34m=\u001b[0m\u001b[0;34m[\u001b[0m\u001b[0;34m]\u001b[0m\u001b[0;34m\u001b[0m\u001b[0;34m\u001b[0m\u001b[0m\n\u001b[1;32m      3\u001b[0m \u001b[0;32mfor\u001b[0m \u001b[0mi\u001b[0m \u001b[0;32min\u001b[0m \u001b[0mret\u001b[0m\u001b[0;34m:\u001b[0m\u001b[0;34m\u001b[0m\u001b[0;34m\u001b[0m\u001b[0m\n\u001b[0;32m----> 4\u001b[0;31m   \u001b[0ma\u001b[0m\u001b[0;34m=\u001b[0m\u001b[0mPE\u001b[0m\u001b[0;34m.\u001b[0m\u001b[0mget_portfolio_std\u001b[0m\u001b[0;34m(\u001b[0m\u001b[0mPE\u001b[0m\u001b[0;34m.\u001b[0m\u001b[0moptimize\u001b[0m\u001b[0;34m(\u001b[0m\u001b[0mi\u001b[0m\u001b[0;34m)\u001b[0m\u001b[0;34m)\u001b[0m\u001b[0;34m\u001b[0m\u001b[0;34m\u001b[0m\u001b[0m\n\u001b[0m\u001b[1;32m      5\u001b[0m   \u001b[0mrisk\u001b[0m\u001b[0;34m.\u001b[0m\u001b[0mappend\u001b[0m\u001b[0;34m(\u001b[0m\u001b[0ma\u001b[0m\u001b[0;34m)\u001b[0m\u001b[0;34m\u001b[0m\u001b[0;34m\u001b[0m\u001b[0m\n\u001b[1;32m      6\u001b[0m \u001b[0;34m\u001b[0m\u001b[0m\n",
            "\u001b[0;31mAttributeError\u001b[0m: 'Portfolio_Effectiveness' object has no attribute 'optimize'"
          ]
        }
      ]
    },
    {
      "cell_type": "code",
      "source": [
        "PE.max_sharpe_ratio()\n",
        "PE.efficient_return(0.019)"
      ],
      "metadata": {
        "colab": {
          "base_uri": "https://localhost:8080/"
        },
        "id": "6MCQNmKt7PYi",
        "outputId": "7cb0182a-fb8d-4e79-9221-dacd8f392988"
      },
      "execution_count": 329,
      "outputs": [
        {
          "output_type": "execute_result",
          "data": {
            "text/plain": [
              "array([0.25074448, 0.25694697, 0.20081832, 0.29149023])"
            ]
          },
          "metadata": {},
          "execution_count": 329
        }
      ]
    },
    {
      "cell_type": "code",
      "source": [
        "plt.plot(risk,ret)\n",
        "plt.scatter(min(risk),ret[np.argmin(risk)],c='red')\n",
        "plt.scatter(PE.get_portfolio_std(PE.max_sharpe_ratio()),\n",
        "            PE.get_portfolio_return(PE.max_sharpe_ratio()),c='green')\n",
        "plt.scatter(PE.get_portfolio_std(PE.efficient_return(0.019)),\n",
        "            PE.get_portfolio_return(PE.efficient_return(0.019)),c='blue')\n",
        "plt.show()"
      ],
      "metadata": {
        "colab": {
          "base_uri": "https://localhost:8080/",
          "height": 286
        },
        "id": "9JtKs4hBajBo",
        "outputId": "82606eb9-c1ac-4a9d-925b-e90ed496ab1e"
      },
      "execution_count": 328,
      "outputs": [
        {
          "output_type": "display_data",
          "data": {
            "text/plain": [
              "<Figure size 432x288 with 1 Axes>"
            ],
            "image/png": "[encoded data removed]"
          },
          "metadata": {
            "needs_background": "light"
          }
        }
      ]
    },
    {
      "cell_type": "code",
      "source": [
        "!pip install pypfopt"
      ],
      "metadata": {
        "colab": {
          "base_uri": "https://localhost:8080/"
        },
        "id": "qxj7NyhD_Usj",
        "outputId": "d2b4b316-9827-45e1-cc12-14158dfcfaff"
      },
      "execution_count": 331,
      "outputs": [
        {
          "output_type": "stream",
          "name": "stdout",
          "text": [
            "\u001b[31mERROR: Could not find a version that satisfies the requirement pypfopt (from versions: none)\u001b[0m\n",
            "\u001b[31mERROR: No matching distribution found for pypfopt\u001b[0m\n"
          ]
        }
      ]
    },
    {
      "cell_type": "code",
      "source": [
        "from pypfopt.expected_returns import mean_historical_return\n",
        "from pypfopt.risk_models import CovarianceShrinkage\n",
        "\n",
        "#mu = mean_historical_return(df)\n",
        "#S = CovarianceShrinkage(df).ledoit_wolf()"
      ],
      "metadata": {
        "colab": {
          "base_uri": "https://localhost:8080/",
          "height": 380
        },
        "id": "bpJoNNeZam8x",
        "outputId": "37499fde-2d10-48a4-f5a7-6482c52824f0"
      },
      "execution_count": 330,
      "outputs": [
        {
          "output_type": "error",
          "ename": "ModuleNotFoundError",
          "evalue": "ignored",
          "traceback": [
            "\u001b[0;31m---------------------------------------------------------------------------\u001b[0m",
            "\u001b[0;31mModuleNotFoundError\u001b[0m                       Traceback (most recent call last)",
            "\u001b[0;32m<ipython-input-330-e29ff57536ea>\u001b[0m in \u001b[0;36m<module>\u001b[0;34m()\u001b[0m\n\u001b[0;32m----> 1\u001b[0;31m \u001b[0;32mfrom\u001b[0m \u001b[0mpypfopt\u001b[0m\u001b[0;34m.\u001b[0m\u001b[0mexpected_returns\u001b[0m \u001b[0;32mimport\u001b[0m \u001b[0mmean_historical_return\u001b[0m\u001b[0;34m\u001b[0m\u001b[0;34m\u001b[0m\u001b[0m\n\u001b[0m\u001b[1;32m      2\u001b[0m \u001b[0;32mfrom\u001b[0m \u001b[0mpypfopt\u001b[0m\u001b[0;34m.\u001b[0m\u001b[0mrisk_models\u001b[0m \u001b[0;32mimport\u001b[0m \u001b[0mCovarianceShrinkage\u001b[0m\u001b[0;34m\u001b[0m\u001b[0;34m\u001b[0m\u001b[0m\n\u001b[1;32m      3\u001b[0m \u001b[0;34m\u001b[0m\u001b[0m\n\u001b[1;32m      4\u001b[0m \u001b[0;31m#mu = mean_historical_return(df)\u001b[0m\u001b[0;34m\u001b[0m\u001b[0;34m\u001b[0m\u001b[0;34m\u001b[0m\u001b[0m\n\u001b[1;32m      5\u001b[0m \u001b[0;31m#S = CovarianceShrinkage(df).ledoit_wolf()\u001b[0m\u001b[0;34m\u001b[0m\u001b[0;34m\u001b[0m\u001b[0;34m\u001b[0m\u001b[0m\n",
            "\u001b[0;31mModuleNotFoundError\u001b[0m: No module named 'pypfopt'",
            "",
            "\u001b[0;31m---------------------------------------------------------------------------\u001b[0;32m\nNOTE: If your import is failing due to a missing package, you can\nmanually install dependencies using either !pip or !apt.\n\nTo view examples of installing some common dependencies, click the\n\"Open Examples\" button below.\n\u001b[0;31m---------------------------------------------------------------------------\u001b[0m\n"
          ],
          "errorDetails": {
            "actions": [
              {
                "action": "open_url",
                "actionText": "Open Examples",
                "url": "/notebooks/snippets/importing_libraries.ipynb"
              }
            ]
          }
        }
      ]
    },
    {
      "cell_type": "code",
      "source": [
        ""
      ],
      "metadata": {
        "id": "3DXbXMcD3aD-"
      },
      "execution_count": null,
      "outputs": []
    }
  ]
}